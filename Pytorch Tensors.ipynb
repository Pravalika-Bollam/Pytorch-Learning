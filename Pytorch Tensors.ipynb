{
 "cells": [
  {
   "cell_type": "code",
   "execution_count": 1,
   "id": "0cb229ac-6a77-412d-90a4-7cd2307cfb97",
   "metadata": {},
   "outputs": [],
   "source": [
    "import torch"
   ]
  },
  {
   "cell_type": "code",
   "execution_count": 10,
   "id": "0f344c65-c0e3-4154-9906-99f8c0e4a55c",
   "metadata": {},
   "outputs": [],
   "source": [
    "mytens = torch.tensor([[1,2,3], [4, 5, 6]], dtype = torch.float32, device = 'cpu', requires_grad = True)"
   ]
  },
  {
   "cell_type": "code",
   "execution_count": 11,
   "id": "89d9f666-d05d-45cc-b413-8d172d060972",
   "metadata": {},
   "outputs": [
    {
     "name": "stdout",
     "output_type": "stream",
     "text": [
      "tensor([[1., 2., 3.],\n",
      "        [4., 5., 6.]], requires_grad=True)\n"
     ]
    }
   ],
   "source": [
    "print(mytens)"
   ]
  },
  {
   "cell_type": "code",
   "execution_count": 12,
   "id": "587023e9-53be-4c93-8173-c515b27abf55",
   "metadata": {},
   "outputs": [],
   "source": [
    "device = \"cuda\" if torch.cuda.is_available() else \"cpu\"\n",
    "tens2 = torch.tensor([1,2,3], device = device)"
   ]
  },
  {
   "cell_type": "code",
   "execution_count": 13,
   "id": "2da61b2d-14de-4979-ab01-a28b910acd26",
   "metadata": {},
   "outputs": [
    {
     "data": {
      "text/plain": [
       "tensor([1, 2, 3])"
      ]
     },
     "execution_count": 13,
     "metadata": {},
     "output_type": "execute_result"
    }
   ],
   "source": [
    "tens2"
   ]
  },
  {
   "cell_type": "code",
   "execution_count": 14,
   "id": "cb95b866-592f-4344-871e-aa5e53c3b106",
   "metadata": {},
   "outputs": [
    {
     "data": {
      "text/plain": [
       "device(type='cpu')"
      ]
     },
     "execution_count": 14,
     "metadata": {},
     "output_type": "execute_result"
    }
   ],
   "source": [
    "tens2.device"
   ]
  },
  {
   "cell_type": "code",
   "execution_count": 16,
   "id": "8ccbd8de-e34c-438c-8ded-f7da19132fb1",
   "metadata": {},
   "outputs": [
    {
     "data": {
      "text/plain": [
       "False"
      ]
     },
     "execution_count": 16,
     "metadata": {},
     "output_type": "execute_result"
    }
   ],
   "source": [
    "tens2.requires_grad"
   ]
  },
  {
   "cell_type": "code",
   "execution_count": 17,
   "id": "97b39e26-534c-4c87-91c6-26bb7997a071",
   "metadata": {},
   "outputs": [
    {
     "data": {
      "text/plain": [
       "torch.int64"
      ]
     },
     "execution_count": 17,
     "metadata": {},
     "output_type": "execute_result"
    }
   ],
   "source": [
    "tens2.dtype"
   ]
  },
  {
   "cell_type": "code",
   "execution_count": 18,
   "id": "f2594daf-03af-49a7-971a-9234e9b94749",
   "metadata": {},
   "outputs": [
    {
     "data": {
      "text/plain": [
       "torch.Size([3])"
      ]
     },
     "execution_count": 18,
     "metadata": {},
     "output_type": "execute_result"
    }
   ],
   "source": [
    "tens2.shape"
   ]
  },
  {
   "cell_type": "code",
   "execution_count": 19,
   "id": "032d6646-368c-4599-be66-9025aef06ea9",
   "metadata": {},
   "outputs": [
    {
     "data": {
      "text/plain": [
       "<function Tensor.size>"
      ]
     },
     "execution_count": 19,
     "metadata": {},
     "output_type": "execute_result"
    }
   ],
   "source": [
    "tens2.size"
   ]
  },
  {
   "cell_type": "code",
   "execution_count": 20,
   "id": "d60e77f7-7aaf-49ca-8e83-e8906ec32a80",
   "metadata": {},
   "outputs": [
    {
     "data": {
      "text/plain": [
       "torch.Size([2, 3])"
      ]
     },
     "execution_count": 20,
     "metadata": {},
     "output_type": "execute_result"
    }
   ],
   "source": [
    "mytens.shape"
   ]
  },
  {
   "cell_type": "code",
   "execution_count": 30,
   "id": "1dd25913-28fc-4253-a9f1-6acc95c97767",
   "metadata": {},
   "outputs": [],
   "source": [
    "#torch.empty provides random data, could be anything not necessarily zeros, it gives what is available in the memory"
   ]
  },
  {
   "cell_type": "code",
   "execution_count": 31,
   "id": "7743fd96-3d29-4872-8498-2e9572f9577a",
   "metadata": {},
   "outputs": [],
   "source": [
    "x = torch.empty([2, 3])"
   ]
  },
  {
   "cell_type": "code",
   "execution_count": 32,
   "id": "db73f8a2-32ca-4595-b0c5-212fc67fe4b3",
   "metadata": {},
   "outputs": [
    {
     "data": {
      "text/plain": [
       "tensor([[0., 0., 0.],\n",
       "        [0., 0., 0.]])"
      ]
     },
     "execution_count": 32,
     "metadata": {},
     "output_type": "execute_result"
    }
   ],
   "source": [
    "x"
   ]
  },
  {
   "cell_type": "code",
   "execution_count": 33,
   "id": "55533fc6-a565-4712-8408-247e69fad955",
   "metadata": {},
   "outputs": [
    {
     "data": {
      "text/plain": [
       "tensor([[1., 1., 1., 1., 1.],\n",
       "        [1., 1., 1., 1., 1.],\n",
       "        [1., 1., 1., 1., 1.],\n",
       "        [1., 1., 1., 1., 1.]])"
      ]
     },
     "execution_count": 33,
     "metadata": {},
     "output_type": "execute_result"
    }
   ],
   "source": [
    "torch.ones([4, 5])"
   ]
  },
  {
   "cell_type": "code",
   "execution_count": 38,
   "id": "97d0f8bc-54a9-4f11-9c5c-7ee55246ccbe",
   "metadata": {},
   "outputs": [],
   "source": [
    "#rand for uniform distribution with the interval [0, 1)"
   ]
  },
  {
   "cell_type": "code",
   "execution_count": 34,
   "id": "4521b83c-53d7-4380-90c2-80a20b6d227c",
   "metadata": {
    "jupyter": {
     "source_hidden": true
    }
   },
   "outputs": [
    {
     "data": {
      "text/plain": [
       "tensor([[0.5208, 0.5960, 0.6626],\n",
       "        [0.4807, 0.1367, 0.0549],\n",
       "        [0.8553, 0.6094, 0.6212]])"
      ]
     },
     "execution_count": 34,
     "metadata": {},
     "output_type": "execute_result"
    }
   ],
   "source": [
    "torch.rand((3,3))"
   ]
  },
  {
   "cell_type": "code",
   "execution_count": 39,
   "id": "d6df6cfd-44b4-496c-8a6e-d994256a54ce",
   "metadata": {},
   "outputs": [],
   "source": [
    "#randn for normal distrivution with mean 0 and variance 1"
   ]
  },
  {
   "cell_type": "code",
   "execution_count": 53,
   "id": "1fa63f21-5e61-4f6e-b48b-3951100dfcf6",
   "metadata": {},
   "outputs": [],
   "source": [
    "normal_tensor = torch.randn(size = (3, 3))"
   ]
  },
  {
   "cell_type": "code",
   "execution_count": 54,
   "id": "c935cf7a-309e-43a6-81ef-4bae65d30f39",
   "metadata": {},
   "outputs": [
    {
     "data": {
      "text/plain": [
       "tensor(-0.0268)"
      ]
     },
     "execution_count": 54,
     "metadata": {},
     "output_type": "execute_result"
    }
   ],
   "source": [
    "normal_tensor.mean()"
   ]
  },
  {
   "cell_type": "code",
   "execution_count": 55,
   "id": "0ad134bf-edb5-435a-88a9-949cf23df413",
   "metadata": {},
   "outputs": [
    {
     "data": {
      "text/plain": [
       "tensor(1.1168)"
      ]
     },
     "execution_count": 55,
     "metadata": {},
     "output_type": "execute_result"
    }
   ],
   "source": [
    "normal_tensor.std()"
   ]
  },
  {
   "cell_type": "code",
   "execution_count": null,
   "id": "8a9d24e3-9940-4ec3-b99f-14851810852e",
   "metadata": {},
   "outputs": [],
   "source": []
  },
  {
   "cell_type": "code",
   "execution_count": 56,
   "id": "b4297444-f73a-49bb-8b08-3bedac9ab47a",
   "metadata": {},
   "outputs": [
    {
     "data": {
      "text/plain": [
       "tensor(1.2472)"
      ]
     },
     "execution_count": 56,
     "metadata": {},
     "output_type": "execute_result"
    }
   ],
   "source": [
    "normal_tensor.var()"
   ]
  },
  {
   "cell_type": "code",
   "execution_count": 58,
   "id": "fe2983a4-417a-48fa-a2b6-d16cd8ba1693",
   "metadata": {},
   "outputs": [],
   "source": [
    "normal = torch.normal(size = (3, 3), mean = 1.2, std = 3)"
   ]
  },
  {
   "cell_type": "code",
   "execution_count": 59,
   "id": "5301caa7-54ed-4c0a-98b0-e7ed41206ca8",
   "metadata": {},
   "outputs": [
    {
     "data": {
      "text/plain": [
       "tensor([[ 0.0434,  0.6397,  3.0000],\n",
       "        [ 1.0067,  0.8092,  3.0705],\n",
       "        [ 2.2196,  2.8337, -3.6607]])"
      ]
     },
     "execution_count": 59,
     "metadata": {},
     "output_type": "execute_result"
    }
   ],
   "source": [
    "normal"
   ]
  },
  {
   "cell_type": "code",
   "execution_count": 60,
   "id": "68cefc58-5670-43f7-b3c1-5f4918c5b4d0",
   "metadata": {},
   "outputs": [
    {
     "data": {
      "text/plain": [
       "tensor(1.1069)"
      ]
     },
     "execution_count": 60,
     "metadata": {},
     "output_type": "execute_result"
    }
   ],
   "source": [
    "normal.mean()"
   ]
  },
  {
   "cell_type": "code",
   "execution_count": 62,
   "id": "2d2bd66c-94ef-415a-aa0b-145ef9909e83",
   "metadata": {},
   "outputs": [
    {
     "data": {
      "text/plain": [
       "tensor(2.1165)"
      ]
     },
     "execution_count": 62,
     "metadata": {},
     "output_type": "execute_result"
    }
   ],
   "source": [
    "normal.std()"
   ]
  },
  {
   "cell_type": "code",
   "execution_count": 36,
   "id": "6a010be3-5086-4c0b-a3f6-a30bf31f56a6",
   "metadata": {},
   "outputs": [
    {
     "data": {
      "text/plain": [
       "tensor([[1., 0., 0., 0.],\n",
       "        [0., 1., 0., 0.],\n",
       "        [0., 0., 1., 0.],\n",
       "        [0., 0., 0., 1.]])"
      ]
     },
     "execution_count": 36,
     "metadata": {},
     "output_type": "execute_result"
    }
   ],
   "source": [
    "torch.eye(4)"
   ]
  },
  {
   "cell_type": "code",
   "execution_count": 68,
   "id": "a039e235-fef5-4830-a343-216f173b3428",
   "metadata": {},
   "outputs": [],
   "source": [
    "range_tensor = torch.arange(start = 0, end = 10 ,step = 2)"
   ]
  },
  {
   "cell_type": "code",
   "execution_count": 69,
   "id": "1e298b4a-24fc-4ff3-8d18-3734892b2639",
   "metadata": {},
   "outputs": [
    {
     "data": {
      "text/plain": [
       "tensor([0, 2, 4, 6, 8])"
      ]
     },
     "execution_count": 69,
     "metadata": {},
     "output_type": "execute_result"
    }
   ],
   "source": [
    "range_tensor"
   ]
  },
  {
   "cell_type": "code",
   "execution_count": 71,
   "id": "2901ceaf-7a5b-4b73-9fd6-9582d6dd5fbb",
   "metadata": {},
   "outputs": [],
   "source": [
    "lins_tensor = torch.linspace(start = 0, end = 10, steps = 20)"
   ]
  },
  {
   "cell_type": "code",
   "execution_count": 72,
   "id": "ca08865b-27dc-4ef7-b304-cef8271202bb",
   "metadata": {},
   "outputs": [
    {
     "data": {
      "text/plain": [
       "tensor([ 0.0000,  0.5263,  1.0526,  1.5789,  2.1053,  2.6316,  3.1579,  3.6842,\n",
       "         4.2105,  4.7368,  5.2632,  5.7895,  6.3158,  6.8421,  7.3684,  7.8947,\n",
       "         8.4211,  8.9474,  9.4737, 10.0000])"
      ]
     },
     "execution_count": 72,
     "metadata": {},
     "output_type": "execute_result"
    }
   ],
   "source": [
    "lins_tensor"
   ]
  },
  {
   "cell_type": "code",
   "execution_count": 74,
   "id": "37051ba6-ea35-4a8d-b152-2b490a82f032",
   "metadata": {},
   "outputs": [
    {
     "data": {
      "text/plain": [
       "tensor([[ 2.5720,  3.4372, -2.9986]])"
      ]
     },
     "execution_count": 74,
     "metadata": {},
     "output_type": "execute_result"
    }
   ],
   "source": [
    "torch.empty((1, 3)).normal_(mean = 0.2, std = 2)"
   ]
  },
  {
   "cell_type": "code",
   "execution_count": 75,
   "id": "989e934e-5c34-42cc-b0f5-bac5bb8e04e6",
   "metadata": {},
   "outputs": [
    {
     "data": {
      "text/plain": [
       "tensor([[ 3.5902,  3.9319, -3.1076]])"
      ]
     },
     "execution_count": 75,
     "metadata": {},
     "output_type": "execute_result"
    }
   ],
   "source": [
    "torch.rand((1, 3)).normal_(mean = 0.2, std = 2)"
   ]
  },
  {
   "cell_type": "code",
   "execution_count": 76,
   "id": "4c6e344a-e35e-4fe3-b11b-7475594eb5e6",
   "metadata": {},
   "outputs": [
    {
     "data": {
      "text/plain": [
       "tensor([[1., 0., 0.],\n",
       "        [0., 1., 0.],\n",
       "        [0., 0., 1.]])"
      ]
     },
     "execution_count": 76,
     "metadata": {},
     "output_type": "execute_result"
    }
   ],
   "source": [
    "torch.diag(torch.ones(3))"
   ]
  },
  {
   "cell_type": "code",
   "execution_count": 77,
   "id": "d7cc96f0-212d-4d53-b4c1-93b404aaef0e",
   "metadata": {},
   "outputs": [
    {
     "data": {
      "text/plain": [
       "tensor([1., 1., 1.])"
      ]
     },
     "execution_count": 77,
     "metadata": {},
     "output_type": "execute_result"
    }
   ],
   "source": [
    "torch.diag(torch.eye(3))"
   ]
  },
  {
   "cell_type": "code",
   "execution_count": 78,
   "id": "398af7de-f656-4d1d-82e6-93388824ebc6",
   "metadata": {},
   "outputs": [
    {
     "data": {
      "text/plain": [
       "tensor([1., 1., 1.])"
      ]
     },
     "execution_count": 78,
     "metadata": {},
     "output_type": "execute_result"
    }
   ],
   "source": [
    "torch.ones(3)"
   ]
  },
  {
   "cell_type": "code",
   "execution_count": 79,
   "id": "ca9c1ae9-e54c-46cd-a57f-9fe15bae33f0",
   "metadata": {},
   "outputs": [
    {
     "data": {
      "text/plain": [
       "tensor([[1., 0., 0.],\n",
       "        [0., 1., 0.],\n",
       "        [0., 0., 1.]])"
      ]
     },
     "execution_count": 79,
     "metadata": {},
     "output_type": "execute_result"
    }
   ],
   "source": [
    "torch.eye(3)"
   ]
  },
  {
   "cell_type": "code",
   "execution_count": 83,
   "id": "ac61ed4c-f07b-43ee-8f25-1dfaae481cd8",
   "metadata": {},
   "outputs": [
    {
     "data": {
      "text/plain": [
       "torch.Size([19])"
      ]
     },
     "execution_count": 83,
     "metadata": {},
     "output_type": "execute_result"
    }
   ],
   "source": [
    "lins_tensor[lins_tensor.bool()].size()"
   ]
  },
  {
   "cell_type": "code",
   "execution_count": 84,
   "id": "ed011f98-0470-42fb-9063-b65412d4321b",
   "metadata": {},
   "outputs": [
    {
     "data": {
      "text/plain": [
       "torch.Size([20])"
      ]
     },
     "execution_count": 84,
     "metadata": {},
     "output_type": "execute_result"
    }
   ],
   "source": [
    "lins_tensor.size()"
   ]
  },
  {
   "cell_type": "code",
   "execution_count": 85,
   "id": "273d10ab-70a3-4587-afc9-99e77114b88e",
   "metadata": {},
   "outputs": [
    {
     "data": {
      "text/plain": [
       "torch.float32"
      ]
     },
     "execution_count": 85,
     "metadata": {},
     "output_type": "execute_result"
    }
   ],
   "source": [
    "lins_tensor.dtype"
   ]
  },
  {
   "cell_type": "code",
   "execution_count": 86,
   "id": "865e6501-3919-43fe-a6ed-67aafa24678a",
   "metadata": {},
   "outputs": [
    {
     "data": {
      "text/plain": [
       "torch.float16"
      ]
     },
     "execution_count": 86,
     "metadata": {},
     "output_type": "execute_result"
    }
   ],
   "source": [
    "lins_tensor.half().dtype"
   ]
  },
  {
   "cell_type": "code",
   "execution_count": 89,
   "id": "dc9d7af9-b16f-42be-b9a7-5f32aa9ea9b4",
   "metadata": {},
   "outputs": [
    {
     "data": {
      "text/plain": [
       "torch.float64"
      ]
     },
     "execution_count": 89,
     "metadata": {},
     "output_type": "execute_result"
    }
   ],
   "source": [
    "lins_tensor.double().dtype"
   ]
  },
  {
   "cell_type": "code",
   "execution_count": 90,
   "id": "0c9ae3f9-38d3-4d05-bd23-87a833559d88",
   "metadata": {},
   "outputs": [],
   "source": [
    "## array to tensor conversion"
   ]
  },
  {
   "cell_type": "code",
   "execution_count": 91,
   "id": "8f5d2108-e3ed-4859-b05c-cf40e1955c89",
   "metadata": {},
   "outputs": [],
   "source": [
    "import numpy as np"
   ]
  },
  {
   "cell_type": "code",
   "execution_count": 93,
   "id": "ab895632-b4fb-4e97-b375-2b7e6be37278",
   "metadata": {},
   "outputs": [],
   "source": [
    "arr = np.array([[1,2], [3, 4]])\n",
    "tensor = torch.from_numpy(arr)"
   ]
  },
  {
   "cell_type": "code",
   "execution_count": 94,
   "id": "c5f15df1-39b7-4073-b59e-ea1fc08f190e",
   "metadata": {},
   "outputs": [
    {
     "data": {
      "text/plain": [
       "tensor([[1, 2],\n",
       "        [3, 4]], dtype=torch.int32)"
      ]
     },
     "execution_count": 94,
     "metadata": {},
     "output_type": "execute_result"
    }
   ],
   "source": [
    "tensor"
   ]
  },
  {
   "cell_type": "code",
   "execution_count": 97,
   "id": "d8eb8a7f-3451-419f-ba64-fb0789bc1b85",
   "metadata": {},
   "outputs": [],
   "source": [
    "arr_back = tensor.numpy()"
   ]
  },
  {
   "cell_type": "code",
   "execution_count": 98,
   "id": "f6c24e10-f8ef-4529-a93f-338b32fa9597",
   "metadata": {},
   "outputs": [
    {
     "data": {
      "text/plain": [
       "array([[1, 2],\n",
       "       [3, 4]])"
      ]
     },
     "execution_count": 98,
     "metadata": {},
     "output_type": "execute_result"
    }
   ],
   "source": [
    "arr_back"
   ]
  },
  {
   "cell_type": "code",
   "execution_count": 99,
   "id": "6a555759-bf49-4413-824c-38416713fb01",
   "metadata": {},
   "outputs": [],
   "source": [
    "## Math and comparison operations"
   ]
  },
  {
   "cell_type": "code",
   "execution_count": 100,
   "id": "476b2430-07da-4a49-a9cd-2b321ea9814d",
   "metadata": {},
   "outputs": [
    {
     "data": {
      "text/plain": [
       "tensor([5, 7, 9])"
      ]
     },
     "execution_count": 100,
     "metadata": {},
     "output_type": "execute_result"
    }
   ],
   "source": [
    "x = torch.tensor([1, 2, 3])\n",
    "y = torch.tensor([4, 5,6])\n",
    "\n",
    "x+y"
   ]
  },
  {
   "cell_type": "code",
   "execution_count": 101,
   "id": "3009c44e-073d-4e45-b48d-31b5dfaa9579",
   "metadata": {},
   "outputs": [
    {
     "data": {
      "text/plain": [
       "tensor([5, 7, 9])"
      ]
     },
     "execution_count": 101,
     "metadata": {},
     "output_type": "execute_result"
    }
   ],
   "source": [
    "torch.add(x, y)"
   ]
  },
  {
   "cell_type": "code",
   "execution_count": 102,
   "id": "8467c99b-e715-4099-9b44-79446efc0c2c",
   "metadata": {},
   "outputs": [
    {
     "data": {
      "text/plain": [
       "tensor([-3, -3, -3])"
      ]
     },
     "execution_count": 102,
     "metadata": {},
     "output_type": "execute_result"
    }
   ],
   "source": [
    "torch.subtract(x, y)"
   ]
  },
  {
   "cell_type": "code",
   "execution_count": 103,
   "id": "53ad2d97-fd1b-401f-974a-e09c90d47f92",
   "metadata": {},
   "outputs": [
    {
     "data": {
      "text/plain": [
       "tensor([0.2500, 0.4000, 0.5000])"
      ]
     },
     "execution_count": 103,
     "metadata": {},
     "output_type": "execute_result"
    }
   ],
   "source": [
    "torch.divide(x, y)"
   ]
  },
  {
   "cell_type": "code",
   "execution_count": 104,
   "id": "bf6557e4-7311-46f5-91b1-f6c6124f7b51",
   "metadata": {},
   "outputs": [
    {
     "data": {
      "text/plain": [
       "tensor([0.2500, 0.4000, 0.5000])"
      ]
     },
     "execution_count": 104,
     "metadata": {},
     "output_type": "execute_result"
    }
   ],
   "source": [
    "torch.true_divide(x, y)"
   ]
  },
  {
   "cell_type": "code",
   "execution_count": 106,
   "id": "273d3817-801f-4ef4-9b77-ac7a7ff6f6ed",
   "metadata": {},
   "outputs": [],
   "source": [
    "# operations inpkace. t.add_ -> operation followed by _ "
   ]
  },
  {
   "cell_type": "code",
   "execution_count": 111,
   "id": "4ce6a67f-fb18-444a-bae7-c6b05afda859",
   "metadata": {},
   "outputs": [],
   "source": [
    "t = torch.zeros((2, 3))"
   ]
  },
  {
   "cell_type": "code",
   "execution_count": 112,
   "id": "1a58575b-8785-4021-b84e-e8e7949b8ea3",
   "metadata": {},
   "outputs": [
    {
     "data": {
      "text/plain": [
       "tensor([[1., 2., 3.],\n",
       "        [1., 2., 3.]])"
      ]
     },
     "execution_count": 112,
     "metadata": {},
     "output_type": "execute_result"
    }
   ],
   "source": [
    "t.add_(x) # same as t = t+x"
   ]
  },
  {
   "cell_type": "code",
   "execution_count": 113,
   "id": "b06eba09-d027-42b4-8e7a-97fbd1fe67d0",
   "metadata": {},
   "outputs": [
    {
     "data": {
      "text/plain": [
       "tensor([[1., 4., 9.],\n",
       "        [1., 4., 9.]])"
      ]
     },
     "execution_count": 113,
     "metadata": {},
     "output_type": "execute_result"
    }
   ],
   "source": [
    "t.pow_(2)"
   ]
  },
  {
   "cell_type": "code",
   "execution_count": 115,
   "id": "042efbb0-2e56-4260-8738-774d7be37a53",
   "metadata": {},
   "outputs": [
    {
     "data": {
      "text/plain": [
       "tensor([[False,  True,  True],\n",
       "        [False,  True,  True]])"
      ]
     },
     "execution_count": 115,
     "metadata": {},
     "output_type": "execute_result"
    }
   ],
   "source": [
    "t>2"
   ]
  },
  {
   "cell_type": "code",
   "execution_count": 120,
   "id": "6b4f3eb8-b70c-418f-ad7f-407abbc94e8e",
   "metadata": {},
   "outputs": [
    {
     "data": {
      "text/plain": [
       "tensor([4., 9., 4., 9.])"
      ]
     },
     "execution_count": 120,
     "metadata": {},
     "output_type": "execute_result"
    }
   ],
   "source": [
    "t[t>2]"
   ]
  },
  {
   "cell_type": "code",
   "execution_count": 121,
   "id": "38330d07-70a6-4189-b9a8-5f3f841f908b",
   "metadata": {},
   "outputs": [],
   "source": [
    "# matrix multiplication\n",
    "x = torch.rand((2, 3))\n",
    "y = torch.rand((3, 2))\n"
   ]
  },
  {
   "cell_type": "code",
   "execution_count": 123,
   "id": "49f6e113-16b4-43e5-8996-0a037436bb83",
   "metadata": {},
   "outputs": [],
   "source": [
    "z = torch.mm(x, y)"
   ]
  },
  {
   "cell_type": "code",
   "execution_count": 124,
   "id": "dd7f0338-4402-46e2-b03d-dcba9b0f1957",
   "metadata": {},
   "outputs": [
    {
     "data": {
      "text/plain": [
       "tensor([[0.5055, 0.6279],\n",
       "        [0.8489, 1.3287]])"
      ]
     },
     "execution_count": 124,
     "metadata": {},
     "output_type": "execute_result"
    }
   ],
   "source": [
    "z"
   ]
  },
  {
   "cell_type": "code",
   "execution_count": 127,
   "id": "158bfc61-a085-4324-bc8b-65b63b1ea793",
   "metadata": {},
   "outputs": [
    {
     "data": {
      "text/plain": [
       "tensor([[0.5812, 0.3259, 0.1211],\n",
       "        [0.2147, 0.9065, 0.9919]])"
      ]
     },
     "execution_count": 127,
     "metadata": {},
     "output_type": "execute_result"
    }
   ],
   "source": [
    "torch.multiply(x, x)"
   ]
  },
  {
   "cell_type": "code",
   "execution_count": 128,
   "id": "be8e087f-413f-4092-bffd-a10e9201d3ee",
   "metadata": {},
   "outputs": [
    {
     "data": {
      "text/plain": [
       "tensor([[0.7624, 0.5709, 0.3481],\n",
       "        [0.4633, 0.9521, 0.9960]])"
      ]
     },
     "execution_count": 128,
     "metadata": {},
     "output_type": "execute_result"
    }
   ],
   "source": [
    "x"
   ]
  },
  {
   "cell_type": "code",
   "execution_count": 132,
   "id": "c43df5fa-9020-44bd-9baf-d4c153482527",
   "metadata": {},
   "outputs": [
    {
     "data": {
      "text/plain": [
       "tensor([[0.7638, 0.8974],\n",
       "        [0.9472, 0.8714]])"
      ]
     },
     "execution_count": 132,
     "metadata": {},
     "output_type": "execute_result"
    }
   ],
   "source": [
    "x = torch.rand(2, 2)\n",
    "x"
   ]
  },
  {
   "cell_type": "code",
   "execution_count": 134,
   "id": "41eeb359-e999-4cdc-88af-15f574f1e8b0",
   "metadata": {},
   "outputs": [
    {
     "data": {
      "text/plain": [
       "tensor([[1.4334, 1.4675],\n",
       "        [1.5488, 1.6094]])"
      ]
     },
     "execution_count": 134,
     "metadata": {},
     "output_type": "execute_result"
    }
   ],
   "source": [
    "x.matrix_power(2)"
   ]
  },
  {
   "cell_type": "code",
   "execution_count": 137,
   "id": "8f545e43-66f1-427e-871e-a7b2d2fb5aa2",
   "metadata": {},
   "outputs": [],
   "source": [
    " # matrix power is only for x*x matrices"
   ]
  },
  {
   "cell_type": "code",
   "execution_count": 138,
   "id": "6d8a1579-e78f-4cda-933e-51d591b94b72",
   "metadata": {},
   "outputs": [],
   "source": [
    "# z = x*y gives elemen wise multiplication"
   ]
  },
  {
   "cell_type": "code",
   "execution_count": 145,
   "id": "6d649791-1283-46de-9591-2dc3b9151cca",
   "metadata": {},
   "outputs": [],
   "source": [
    "x = torch.rand(3)\n",
    "y = torch.rand(3)"
   ]
  },
  {
   "cell_type": "code",
   "execution_count": 146,
   "id": "fee5f775-31f3-4255-b76a-2c3cca43abff",
   "metadata": {},
   "outputs": [
    {
     "data": {
      "text/plain": [
       "tensor([0.1485, 0.0440, 0.9965])"
      ]
     },
     "execution_count": 146,
     "metadata": {},
     "output_type": "execute_result"
    }
   ],
   "source": [
    "x"
   ]
  },
  {
   "cell_type": "code",
   "execution_count": 147,
   "id": "bed618d7-7c63-4ae4-9c65-ae0bcab8cc01",
   "metadata": {},
   "outputs": [
    {
     "data": {
      "text/plain": [
       "tensor([0.2803, 0.5495, 0.0267])"
      ]
     },
     "execution_count": 147,
     "metadata": {},
     "output_type": "execute_result"
    }
   ],
   "source": [
    "y"
   ]
  },
  {
   "cell_type": "code",
   "execution_count": 148,
   "id": "8c09a0e1-8a05-4902-853f-a4ce7dad5cbe",
   "metadata": {},
   "outputs": [
    {
     "data": {
      "text/plain": [
       "tensor(0.0925)"
      ]
     },
     "execution_count": 148,
     "metadata": {},
     "output_type": "execute_result"
    }
   ],
   "source": [
    "torch.dot(x, y)"
   ]
  },
  {
   "cell_type": "code",
   "execution_count": 149,
   "id": "f5d8e3ec-03f8-4dfa-93fa-1a2f6c9fb6cf",
   "metadata": {},
   "outputs": [],
   "source": [
    "x = torch.rand(2, 3)\n",
    "y = torch.rand(2,3)"
   ]
  },
  {
   "cell_type": "code",
   "execution_count": 151,
   "id": "197ed18c-a949-4b30-a9b6-b4f32c7fa605",
   "metadata": {},
   "outputs": [
    {
     "ename": "RuntimeError",
     "evalue": "1D tensors expected, but got 2D and 2D tensors",
     "output_type": "error",
     "traceback": [
      "\u001b[1;31m---------------------------------------------------------------------------\u001b[0m",
      "\u001b[1;31mRuntimeError\u001b[0m                              Traceback (most recent call last)",
      "Cell \u001b[1;32mIn[151], line 1\u001b[0m\n\u001b[1;32m----> 1\u001b[0m torch\u001b[38;5;241m.\u001b[39mdot(x, y)\n",
      "\u001b[1;31mRuntimeError\u001b[0m: 1D tensors expected, but got 2D and 2D tensors"
     ]
    }
   ],
   "source": [
    "torch.dot(x, y)"
   ]
  },
  {
   "cell_type": "code",
   "execution_count": 155,
   "id": "862ab084-6867-4c09-a76a-433880b8c853",
   "metadata": {},
   "outputs": [],
   "source": [
    "# batch matrix multiplcation -> used when dimension is more than rows and cols"
   ]
  },
  {
   "cell_type": "code",
   "execution_count": 161,
   "id": "655a572f-6f13-4177-b18c-b7889195e796",
   "metadata": {},
   "outputs": [],
   "source": [
    "batch = 3\n",
    "n = 2\n",
    "m = 4\n",
    "t1 = torch.rand(batch, n, m)\n",
    "t2 = torch.rand(batch, m, n)"
   ]
  },
  {
   "cell_type": "code",
   "execution_count": 166,
   "id": "b43b52fc-8d2e-4efd-928d-56a8baa5e39d",
   "metadata": {},
   "outputs": [
    {
     "data": {
      "text/plain": [
       "torch.Size([3, 2, 2])"
      ]
     },
     "execution_count": 166,
     "metadata": {},
     "output_type": "execute_result"
    }
   ],
   "source": [
    "torch.bmm(t1, t2).size() #gives (batch, n,n as n*m x m*n gives n *n)"
   ]
  },
  {
   "cell_type": "code",
   "execution_count": 168,
   "id": "d2600d9a-6846-42ab-8c00-f1e453199dd9",
   "metadata": {},
   "outputs": [],
   "source": [
    "# broadcasting\n",
    "x1 = torch.rand(5, 5)\n",
    "x2 = torch.rand(1, 5)"
   ]
  },
  {
   "cell_type": "code",
   "execution_count": 169,
   "id": "ce8c27a9-cd01-404f-94e5-f5720ecdd2a7",
   "metadata": {},
   "outputs": [
    {
     "data": {
      "text/plain": [
       "tensor([[ 0.6246,  0.7518, -0.4803,  0.1056,  0.1675],\n",
       "        [ 0.5643,  0.0711, -0.1049, -0.2450,  0.3000],\n",
       "        [ 0.2821,  0.2206, -0.2794,  0.3012,  0.2835],\n",
       "        [ 0.0778, -0.1326,  0.2587,  0.1790, -0.1432],\n",
       "        [ 0.0369,  0.6218,  0.1892,  0.6380,  0.1848]])"
      ]
     },
     "execution_count": 169,
     "metadata": {},
     "output_type": "execute_result"
    }
   ],
   "source": [
    "x1-x2"
   ]
  },
  {
   "cell_type": "code",
   "execution_count": 170,
   "id": "7dab73e3-f902-49b9-91f6-52f1f9dc0b48",
   "metadata": {},
   "outputs": [],
   "source": [
    "# in the above case, x2 is expanded automatically to match x1 dimension"
   ]
  },
  {
   "cell_type": "code",
   "execution_count": 172,
   "id": "b98f4a31-d5c7-4789-98a4-3bd332cfc283",
   "metadata": {},
   "outputs": [
    {
     "data": {
      "text/plain": [
       "tensor([[0.0342, 0.1613, 0.0923, 0.1029, 0.0641],\n",
       "        [0.0312, 0.0427, 0.3278, 0.0074, 0.0883],\n",
       "        [0.0169, 0.0687, 0.2184, 0.1562, 0.0853],\n",
       "        [0.0065, 0.0072, 0.5559, 0.1229, 0.0073],\n",
       "        [0.0044, 0.1386, 0.5123, 0.2479, 0.0672]])"
      ]
     },
     "execution_count": 172,
     "metadata": {},
     "output_type": "execute_result"
    }
   ],
   "source": [
    "x1*x2"
   ]
  },
  {
   "cell_type": "code",
   "execution_count": 173,
   "id": "d0e1b965-428f-40c2-92e6-a894d3d5ccfb",
   "metadata": {},
   "outputs": [
    {
     "data": {
      "text/plain": [
       "tensor([[0.6752, 0.9260, 0.1471, 0.3779, 0.3504],\n",
       "        [0.6150, 0.2453, 0.5225, 0.0273, 0.4829],\n",
       "        [0.3328, 0.3947, 0.3480, 0.5735, 0.4664],\n",
       "        [0.1285, 0.0416, 0.8861, 0.4513, 0.0397],\n",
       "        [0.0876, 0.7959, 0.8166, 0.9103, 0.3676]])"
      ]
     },
     "execution_count": 173,
     "metadata": {},
     "output_type": "execute_result"
    }
   ],
   "source": [
    "x1"
   ]
  },
  {
   "cell_type": "code",
   "execution_count": 174,
   "id": "fa36dd37-9523-46ac-8f64-d9ed0c38b638",
   "metadata": {},
   "outputs": [
    {
     "data": {
      "text/plain": [
       "tensor([[0.0507, 0.1742, 0.6274, 0.2723, 0.1829]])"
      ]
     },
     "execution_count": 174,
     "metadata": {},
     "output_type": "execute_result"
    }
   ],
   "source": [
    "x2"
   ]
  },
  {
   "cell_type": "code",
   "execution_count": 176,
   "id": "7b686f43-9b9c-4ad0-b5ce-d286ad1ab02b",
   "metadata": {},
   "outputs": [
    {
     "data": {
      "text/plain": [
       "tensor([1.3074])"
      ]
     },
     "execution_count": 176,
     "metadata": {},
     "output_type": "execute_result"
    }
   ],
   "source": [
    "torch.sum(x2, dim = 1)"
   ]
  },
  {
   "cell_type": "code",
   "execution_count": 177,
   "id": "5cb456a6-5754-4e52-9314-c64c5b63f2b7",
   "metadata": {},
   "outputs": [
    {
     "data": {
      "text/plain": [
       "tensor([0.0507, 0.1742, 0.6274, 0.2723, 0.1829])"
      ]
     },
     "execution_count": 177,
     "metadata": {},
     "output_type": "execute_result"
    }
   ],
   "source": [
    "torch.sum(x2, dim = 0)"
   ]
  },
  {
   "cell_type": "code",
   "execution_count": 178,
   "id": "f2ed2f41-4c6f-4354-a0c3-f34258263185",
   "metadata": {},
   "outputs": [],
   "source": [
    "val, ind = torch.max(x2, dim = 0)"
   ]
  },
  {
   "cell_type": "code",
   "execution_count": 179,
   "id": "1d053d5d-b847-4aec-b2a3-88117467885f",
   "metadata": {},
   "outputs": [
    {
     "data": {
      "text/plain": [
       "tensor([0.0507, 0.1742, 0.6274, 0.2723, 0.1829])"
      ]
     },
     "execution_count": 179,
     "metadata": {},
     "output_type": "execute_result"
    }
   ],
   "source": [
    "val"
   ]
  },
  {
   "cell_type": "code",
   "execution_count": 180,
   "id": "82754972-87de-4357-8dc1-eb81ba279afb",
   "metadata": {},
   "outputs": [
    {
     "data": {
      "text/plain": [
       "tensor([0, 0, 0, 0, 0])"
      ]
     },
     "execution_count": 180,
     "metadata": {},
     "output_type": "execute_result"
    }
   ],
   "source": [
    "ind"
   ]
  },
  {
   "cell_type": "code",
   "execution_count": 181,
   "id": "76a0ad9a-78af-4143-91e9-33ad0939d90e",
   "metadata": {},
   "outputs": [],
   "source": [
    "val, ind = torch.max(x2, dim = 1)"
   ]
  },
  {
   "cell_type": "code",
   "execution_count": 182,
   "id": "183c049b-a089-4c7a-b9c7-53ad8d97a871",
   "metadata": {},
   "outputs": [
    {
     "data": {
      "text/plain": [
       "(tensor([0.6274]), tensor([2]))"
      ]
     },
     "execution_count": 182,
     "metadata": {},
     "output_type": "execute_result"
    }
   ],
   "source": [
    "val, ind"
   ]
  },
  {
   "cell_type": "code",
   "execution_count": 186,
   "id": "dc270e73-96cd-41ae-b522-d2effd688da9",
   "metadata": {},
   "outputs": [
    {
     "data": {
      "text/plain": [
       "0.6274076700210571"
      ]
     },
     "execution_count": 186,
     "metadata": {},
     "output_type": "execute_result"
    }
   ],
   "source": [
    "float(val[0])"
   ]
  },
  {
   "cell_type": "code",
   "execution_count": 187,
   "id": "1d3e3eba-2df8-48e9-959c-e42708914da9",
   "metadata": {},
   "outputs": [
    {
     "data": {
      "text/plain": [
       "tensor(2)"
      ]
     },
     "execution_count": 187,
     "metadata": {},
     "output_type": "execute_result"
    }
   ],
   "source": [
    "torch.argmax(x2)"
   ]
  },
  {
   "cell_type": "code",
   "execution_count": 189,
   "id": "2472f015-69b3-4629-af85-54e4140014fb",
   "metadata": {},
   "outputs": [
    {
     "data": {
      "text/plain": [
       "tensor([[False, False, False, False, False],\n",
       "        [False, False, False, False, False],\n",
       "        [False, False, False, False, False],\n",
       "        [False, False, False, False, False],\n",
       "        [False, False, False, False, False]])"
      ]
     },
     "execution_count": 189,
     "metadata": {},
     "output_type": "execute_result"
    }
   ],
   "source": [
    "torch.eq(x1, x2) # compare element wise"
   ]
  },
  {
   "cell_type": "code",
   "execution_count": 190,
   "id": "50f608a9-65a4-4e5f-960e-e4d5707252d2",
   "metadata": {},
   "outputs": [
    {
     "data": {
      "text/plain": [
       "tensor(0.2615)"
      ]
     },
     "execution_count": 190,
     "metadata": {},
     "output_type": "execute_result"
    }
   ],
   "source": [
    "torch.mean(x2)"
   ]
  },
  {
   "cell_type": "code",
   "execution_count": 199,
   "id": "1c9e6962-396c-4897-82d1-1b7dd6b1e050",
   "metadata": {},
   "outputs": [
    {
     "data": {
      "text/plain": [
       "torch.return_types.sort(\n",
       "values=tensor([[0.0507, 0.1742, 0.1829, 0.2723, 0.6274]]),\n",
       "indices=tensor([[0, 1, 4, 3, 2]]))"
      ]
     },
     "execution_count": 199,
     "metadata": {},
     "output_type": "execute_result"
    }
   ],
   "source": [
    "torch.sort(x2)"
   ]
  },
  {
   "cell_type": "code",
   "execution_count": 203,
   "id": "710a3317-022a-4100-b6ac-da19cd6bc795",
   "metadata": {},
   "outputs": [
    {
     "data": {
      "text/plain": [
       "0.050659478"
      ]
     },
     "execution_count": 203,
     "metadata": {},
     "output_type": "execute_result"
    }
   ],
   "source": [
    "torch.sort(x2).values.numpy()[0][0]"
   ]
  },
  {
   "cell_type": "code",
   "execution_count": 204,
   "id": "90cef08f-59ea-4559-9796-e56bcf69b192",
   "metadata": {},
   "outputs": [
    {
     "data": {
      "text/plain": [
       "tensor([[0.0507, 0.1742, 0.6274, 0.2723, 0.1829]])"
      ]
     },
     "execution_count": 204,
     "metadata": {},
     "output_type": "execute_result"
    }
   ],
   "source": [
    "x2"
   ]
  },
  {
   "cell_type": "code",
   "execution_count": 207,
   "id": "3413f7f7-ba54-4ab4-b20b-8c6739c463d3",
   "metadata": {},
   "outputs": [
    {
     "data": {
      "text/plain": [
       "tensor([[0.2000, 0.2000, 0.5000, 0.2723, 0.2000]])"
      ]
     },
     "execution_count": 207,
     "metadata": {},
     "output_type": "execute_result"
    }
   ],
   "source": [
    "torch.clamp(x2, min = 0.2, max = 0.5)"
   ]
  },
  {
   "cell_type": "code",
   "execution_count": 208,
   "id": "5f4374bc-e0d0-43a7-8a2a-a6a7d920198e",
   "metadata": {},
   "outputs": [
    {
     "data": {
      "text/plain": [
       "tensor(True)"
      ]
     },
     "execution_count": 208,
     "metadata": {},
     "output_type": "execute_result"
    }
   ],
   "source": [
    "torch.any(x2)"
   ]
  },
  {
   "cell_type": "code",
   "execution_count": 209,
   "id": "8424f3ed-0261-400f-aa6c-aef47bfa40ff",
   "metadata": {},
   "outputs": [
    {
     "data": {
      "text/plain": [
       "tensor(True)"
      ]
     },
     "execution_count": 209,
     "metadata": {},
     "output_type": "execute_result"
    }
   ],
   "source": [
    "torch.all(x2)"
   ]
  },
  {
   "cell_type": "code",
   "execution_count": 210,
   "id": "bcb8114f-7655-409e-82d9-8fa9bce088ae",
   "metadata": {},
   "outputs": [],
   "source": [
    "x = torch.arange(10)"
   ]
  },
  {
   "cell_type": "code",
   "execution_count": 211,
   "id": "2a7d4dbb-f9ef-467a-b36d-99fdaf5a72cf",
   "metadata": {},
   "outputs": [
    {
     "data": {
      "text/plain": [
       "tensor([0, 2, 4, 6, 8])"
      ]
     },
     "execution_count": 211,
     "metadata": {},
     "output_type": "execute_result"
    }
   ],
   "source": [
    "x[x.remainder(2) == 0]"
   ]
  },
  {
   "cell_type": "code",
   "execution_count": 212,
   "id": "3cacced3-65c7-431e-84dc-d9359a64d7f6",
   "metadata": {},
   "outputs": [
    {
     "data": {
      "text/plain": [
       "tensor([0, 2, 4, 6, 8])"
      ]
     },
     "execution_count": 212,
     "metadata": {},
     "output_type": "execute_result"
    }
   ],
   "source": [
    "x[x%2==0]"
   ]
  },
  {
   "cell_type": "code",
   "execution_count": 214,
   "id": "b9727ea0-ec21-42ae-9b29-5b86656744c5",
   "metadata": {},
   "outputs": [
    {
     "data": {
      "text/plain": [
       "tensor([2, 4, 6])"
      ]
     },
     "execution_count": 214,
     "metadata": {},
     "output_type": "execute_result"
    }
   ],
   "source": [
    "indices = [2, 4, 6]\n",
    "x[indices]"
   ]
  },
  {
   "cell_type": "code",
   "execution_count": 219,
   "id": "64f51f51-46d6-480d-92d8-e598a8310de9",
   "metadata": {},
   "outputs": [
    {
     "data": {
      "text/plain": [
       "tensor([ 0,  3,  6,  9, 12, 15,  6,  7,  8,  9])"
      ]
     },
     "execution_count": 219,
     "metadata": {},
     "output_type": "execute_result"
    }
   ],
   "source": [
    "torch.where(x>5, x, x*3) #if x>5, the value stays same else it is multiplied by 3"
   ]
  },
  {
   "cell_type": "code",
   "execution_count": 220,
   "id": "189d60c9-79d6-4d4e-be3d-de5767bee2a8",
   "metadata": {},
   "outputs": [
    {
     "data": {
      "text/plain": [
       "tensor([0, 1, 2])"
      ]
     },
     "execution_count": 220,
     "metadata": {},
     "output_type": "execute_result"
    }
   ],
   "source": [
    "torch.tensor([0, 1, 2, 0, 1, 2, 0]).unique()"
   ]
  },
  {
   "cell_type": "code",
   "execution_count": 221,
   "id": "e884f83c-4721-4bed-b9d2-913aa5efbba8",
   "metadata": {},
   "outputs": [
    {
     "data": {
      "text/plain": [
       "1"
      ]
     },
     "execution_count": 221,
     "metadata": {},
     "output_type": "execute_result"
    }
   ],
   "source": [
    "x.ndim"
   ]
  },
  {
   "cell_type": "code",
   "execution_count": 222,
   "id": "0e0acd94-1883-44ba-b560-842dc555d7e8",
   "metadata": {},
   "outputs": [
    {
     "data": {
      "text/plain": [
       "10"
      ]
     },
     "execution_count": 222,
     "metadata": {},
     "output_type": "execute_result"
    }
   ],
   "source": [
    "# number of elements\n",
    "x.numel()"
   ]
  },
  {
   "cell_type": "code",
   "execution_count": 226,
   "id": "09bec49f-ed23-463b-80da-d31a17c85c79",
   "metadata": {},
   "outputs": [
    {
     "data": {
      "text/plain": [
       "tensor([0, 1, 2, 3, 4, 5, 6, 7, 8, 9])"
      ]
     },
     "execution_count": 226,
     "metadata": {},
     "output_type": "execute_result"
    }
   ],
   "source": [
    "x"
   ]
  },
  {
   "cell_type": "code",
   "execution_count": 225,
   "id": "2a5210b0-d524-4de4-b626-eaf3b2a64b5d",
   "metadata": {},
   "outputs": [
    {
     "data": {
      "text/plain": [
       "tensor([[0, 1, 2, 3, 4],\n",
       "        [5, 6, 7, 8, 9]])"
      ]
     },
     "execution_count": 225,
     "metadata": {},
     "output_type": "execute_result"
    }
   ],
   "source": [
    "x.view(2, 5)"
   ]
  },
  {
   "cell_type": "code",
   "execution_count": 227,
   "id": "fcb65243-22a4-41ec-a5eb-d60f09e8657f",
   "metadata": {},
   "outputs": [
    {
     "data": {
      "text/plain": [
       "tensor([[0, 1, 2, 3, 4],\n",
       "        [5, 6, 7, 8, 9]])"
      ]
     },
     "execution_count": 227,
     "metadata": {},
     "output_type": "execute_result"
    }
   ],
   "source": [
    "x.reshape(2, 5)"
   ]
  },
  {
   "cell_type": "code",
   "execution_count": 228,
   "id": "3123b279-a7c8-47ff-abcb-63ac9e8b28ab",
   "metadata": {},
   "outputs": [
    {
     "data": {
      "text/plain": [
       "tensor([0, 1, 2, 3, 4, 5, 6, 7, 8, 9])"
      ]
     },
     "execution_count": 228,
     "metadata": {},
     "output_type": "execute_result"
    }
   ],
   "source": [
    "x"
   ]
  },
  {
   "cell_type": "code",
   "execution_count": 230,
   "id": "54b4b06a-3c3a-48ea-b8af-3ea0a9434ba7",
   "metadata": {},
   "outputs": [],
   "source": [
    "# to change, do x = x.reshape(2, 5), reshape is best as its a copy, view references to the original"
   ]
  },
  {
   "cell_type": "code",
   "execution_count": 235,
   "id": "5744d738-1942-4ae0-8c13-f9d7d9d41ac2",
   "metadata": {},
   "outputs": [],
   "source": [
    "# transpose\n",
    "x = torch.arange(10)\n",
    "x = x.view(2, 5)"
   ]
  },
  {
   "cell_type": "code",
   "execution_count": 237,
   "id": "e23ea92d-adfd-475d-ae14-2e1531839be3",
   "metadata": {},
   "outputs": [
    {
     "data": {
      "text/plain": [
       "tensor([[0, 5],\n",
       "        [1, 6],\n",
       "        [2, 7],\n",
       "        [3, 8],\n",
       "        [4, 9]])"
      ]
     },
     "execution_count": 237,
     "metadata": {},
     "output_type": "execute_result"
    }
   ],
   "source": [
    "y = x.t()\n",
    "y"
   ]
  },
  {
   "cell_type": "code",
   "execution_count": 242,
   "id": "c48b0144-344d-4b4a-b601-afbce4e96aac",
   "metadata": {},
   "outputs": [
    {
     "ename": "RuntimeError",
     "evalue": "view size is not compatible with input tensor's size and stride (at least one dimension spans across two contiguous subspaces). Use .reshape(...) instead.",
     "output_type": "error",
     "traceback": [
      "\u001b[1;31m---------------------------------------------------------------------------\u001b[0m",
      "\u001b[1;31mRuntimeError\u001b[0m                              Traceback (most recent call last)",
      "Cell \u001b[1;32mIn[242], line 1\u001b[0m\n\u001b[1;32m----> 1\u001b[0m y\u001b[38;5;241m.\u001b[39mview(\u001b[38;5;241m10\u001b[39m)\n",
      "\u001b[1;31mRuntimeError\u001b[0m: view size is not compatible with input tensor's size and stride (at least one dimension spans across two contiguous subspaces). Use .reshape(...) instead."
     ]
    }
   ],
   "source": [
    "y.view(10)"
   ]
  },
  {
   "cell_type": "code",
   "execution_count": 244,
   "id": "86e5f7da-bd8f-4272-b234-d7f3638d059a",
   "metadata": {},
   "outputs": [
    {
     "data": {
      "text/plain": [
       "tensor([0, 5, 1, 6, 2, 7, 3, 8, 4, 9])"
      ]
     },
     "execution_count": 244,
     "metadata": {},
     "output_type": "execute_result"
    }
   ],
   "source": [
    "y.contiguous().view(10)"
   ]
  },
  {
   "cell_type": "code",
   "execution_count": 245,
   "id": "0926d8ca-2ca8-4f24-8edd-26f7d61d2436",
   "metadata": {},
   "outputs": [
    {
     "data": {
      "text/plain": [
       "tensor([0, 5, 1, 6, 2, 7, 3, 8, 4, 9])"
      ]
     },
     "execution_count": 245,
     "metadata": {},
     "output_type": "execute_result"
    }
   ],
   "source": [
    "# or do with reshape\n",
    "y.reshape(10)"
   ]
  },
  {
   "cell_type": "code",
   "execution_count": 251,
   "id": "0ec1ec70-aa8e-4066-aab2-6fa23afff270",
   "metadata": {},
   "outputs": [
    {
     "data": {
      "text/plain": [
       "tensor([[0.6752, 0.9260, 0.1471, 0.3779, 0.3504],\n",
       "        [0.6150, 0.2453, 0.5225, 0.0273, 0.4829],\n",
       "        [0.3328, 0.3947, 0.3480, 0.5735, 0.4664],\n",
       "        [0.1285, 0.0416, 0.8861, 0.4513, 0.0397],\n",
       "        [0.0876, 0.7959, 0.8166, 0.9103, 0.3676],\n",
       "        [0.0507, 0.1742, 0.6274, 0.2723, 0.1829]])"
      ]
     },
     "execution_count": 251,
     "metadata": {},
     "output_type": "execute_result"
    }
   ],
   "source": [
    "torch.cat((x1, x2), dim = 0)"
   ]
  },
  {
   "cell_type": "code",
   "execution_count": 252,
   "id": "5700a346-0d93-437e-a10d-105ef56298dc",
   "metadata": {},
   "outputs": [
    {
     "data": {
      "text/plain": [
       "tensor([[0.6752, 0.9260, 0.1471, 0.3779, 0.3504],\n",
       "        [0.6150, 0.2453, 0.5225, 0.0273, 0.4829],\n",
       "        [0.3328, 0.3947, 0.3480, 0.5735, 0.4664],\n",
       "        [0.1285, 0.0416, 0.8861, 0.4513, 0.0397],\n",
       "        [0.0876, 0.7959, 0.8166, 0.9103, 0.3676]])"
      ]
     },
     "execution_count": 252,
     "metadata": {},
     "output_type": "execute_result"
    }
   ],
   "source": [
    "x1"
   ]
  },
  {
   "cell_type": "code",
   "execution_count": 253,
   "id": "418a9dac-93db-4e11-a0a3-6f8c99aebd78",
   "metadata": {},
   "outputs": [
    {
     "data": {
      "text/plain": [
       "tensor([[0.0507, 0.1742, 0.6274, 0.2723, 0.1829]])"
      ]
     },
     "execution_count": 253,
     "metadata": {},
     "output_type": "execute_result"
    }
   ],
   "source": [
    "x2"
   ]
  },
  {
   "cell_type": "code",
   "execution_count": 259,
   "id": "934e09cb-1d2b-4b20-a910-15a2f6371dbb",
   "metadata": {},
   "outputs": [
    {
     "data": {
      "text/plain": [
       "tensor([[0.6752, 0.9260, 0.1471, 0.3779, 0.3504, 0.0507],\n",
       "        [0.6150, 0.2453, 0.5225, 0.0273, 0.4829, 0.1742],\n",
       "        [0.3328, 0.3947, 0.3480, 0.5735, 0.4664, 0.6274],\n",
       "        [0.1285, 0.0416, 0.8861, 0.4513, 0.0397, 0.2723],\n",
       "        [0.0876, 0.7959, 0.8166, 0.9103, 0.3676, 0.1829]])"
      ]
     },
     "execution_count": 259,
     "metadata": {},
     "output_type": "execute_result"
    }
   ],
   "source": [
    "torch.cat((x1, x2.t()), dim = 1)"
   ]
  },
  {
   "cell_type": "code",
   "execution_count": 261,
   "id": "c21ea47f-6b29-4edf-a52c-ef845ecd5063",
   "metadata": {},
   "outputs": [
    {
     "data": {
      "text/plain": [
       "tensor([0.0507, 0.1742, 0.6274, 0.2723, 0.1829])"
      ]
     },
     "execution_count": 261,
     "metadata": {},
     "output_type": "execute_result"
    }
   ],
   "source": [
    "x2.view(-1)"
   ]
  },
  {
   "cell_type": "code",
   "execution_count": 262,
   "id": "8cda784f-831f-4715-9cbd-b4ea7d642270",
   "metadata": {},
   "outputs": [
    {
     "data": {
      "text/plain": [
       "tensor([[5.9193e-01, 6.7043e-01, 8.9463e-01, 6.8686e-02, 1.8031e-01, 1.3489e-01],\n",
       "        [8.2590e-01, 4.7763e-01, 9.2965e-01, 4.8962e-01, 5.1542e-01, 4.6879e-02],\n",
       "        [3.2792e-01, 1.5615e-01, 8.9290e-01, 1.1932e-01, 3.9968e-02, 6.8860e-01],\n",
       "        [6.5710e-01, 2.1206e-02, 6.4820e-01, 1.0267e-01, 6.7212e-01, 5.0572e-01],\n",
       "        [8.6395e-02, 9.0696e-01, 4.2996e-01, 6.2560e-03, 5.6212e-01, 9.4994e-01],\n",
       "        [3.6279e-01, 9.6146e-01, 7.0715e-01, 2.2428e-03, 5.0325e-02, 3.7010e-02],\n",
       "        [7.2905e-02, 7.3195e-04, 1.5468e-01, 4.3695e-01, 8.6835e-01, 8.3062e-01],\n",
       "        [7.5589e-01, 2.0579e-01, 1.6815e-01, 1.0718e-01, 5.0122e-01, 9.7554e-02],\n",
       "        [1.4254e-01, 4.6769e-01, 8.9754e-01, 2.1986e-01, 4.6113e-01, 7.6987e-02],\n",
       "        [3.8628e-01, 9.6891e-01, 9.7560e-01, 1.3187e-01, 1.9162e-01, 7.2246e-01]])"
      ]
     },
     "execution_count": 262,
     "metadata": {},
     "output_type": "execute_result"
    }
   ],
   "source": [
    "batch = 10\n",
    "x = torch.rand(batch, 2, 3)\n",
    "x.view(batch, -1) # the batch dimension stays the same"
   ]
  },
  {
   "cell_type": "code",
   "execution_count": 264,
   "id": "27777425-c684-4b92-b065-999c82e77fe3",
   "metadata": {},
   "outputs": [
    {
     "data": {
      "text/plain": [
       "torch.Size([10, 6])"
      ]
     },
     "execution_count": 264,
     "metadata": {},
     "output_type": "execute_result"
    }
   ],
   "source": [
    "x.view(batch, -1).shape"
   ]
  },
  {
   "cell_type": "code",
   "execution_count": 266,
   "id": "a727f411-cbcb-44cb-9023-f444c97435e5",
   "metadata": {},
   "outputs": [
    {
     "data": {
      "text/plain": [
       "tensor([[[5.9193e-01, 6.7043e-01, 8.9463e-01],\n",
       "         [6.8686e-02, 1.8031e-01, 1.3489e-01]],\n",
       "\n",
       "        [[8.2590e-01, 4.7763e-01, 9.2965e-01],\n",
       "         [4.8962e-01, 5.1542e-01, 4.6879e-02]],\n",
       "\n",
       "        [[3.2792e-01, 1.5615e-01, 8.9290e-01],\n",
       "         [1.1932e-01, 3.9968e-02, 6.8860e-01]],\n",
       "\n",
       "        [[6.5710e-01, 2.1206e-02, 6.4820e-01],\n",
       "         [1.0267e-01, 6.7212e-01, 5.0572e-01]],\n",
       "\n",
       "        [[8.6395e-02, 9.0696e-01, 4.2996e-01],\n",
       "         [6.2560e-03, 5.6212e-01, 9.4994e-01]],\n",
       "\n",
       "        [[3.6279e-01, 9.6146e-01, 7.0715e-01],\n",
       "         [2.2428e-03, 5.0325e-02, 3.7010e-02]],\n",
       "\n",
       "        [[7.2905e-02, 7.3195e-04, 1.5468e-01],\n",
       "         [4.3695e-01, 8.6835e-01, 8.3062e-01]],\n",
       "\n",
       "        [[7.5589e-01, 2.0579e-01, 1.6815e-01],\n",
       "         [1.0718e-01, 5.0122e-01, 9.7554e-02]],\n",
       "\n",
       "        [[1.4254e-01, 4.6769e-01, 8.9754e-01],\n",
       "         [2.1986e-01, 4.6113e-01, 7.6987e-02]],\n",
       "\n",
       "        [[3.8628e-01, 9.6891e-01, 9.7560e-01],\n",
       "         [1.3187e-01, 1.9162e-01, 7.2246e-01]]])"
      ]
     },
     "execution_count": 266,
     "metadata": {},
     "output_type": "execute_result"
    }
   ],
   "source": [
    "x"
   ]
  },
  {
   "cell_type": "code",
   "execution_count": 265,
   "id": "24ac5961-67b9-4bb7-a651-695b2d05533e",
   "metadata": {},
   "outputs": [
    {
     "data": {
      "text/plain": [
       "tensor([[[5.9193e-01, 6.8686e-02],\n",
       "         [6.7043e-01, 1.8031e-01],\n",
       "         [8.9463e-01, 1.3489e-01]],\n",
       "\n",
       "        [[8.2590e-01, 4.8962e-01],\n",
       "         [4.7763e-01, 5.1542e-01],\n",
       "         [9.2965e-01, 4.6879e-02]],\n",
       "\n",
       "        [[3.2792e-01, 1.1932e-01],\n",
       "         [1.5615e-01, 3.9968e-02],\n",
       "         [8.9290e-01, 6.8860e-01]],\n",
       "\n",
       "        [[6.5710e-01, 1.0267e-01],\n",
       "         [2.1206e-02, 6.7212e-01],\n",
       "         [6.4820e-01, 5.0572e-01]],\n",
       "\n",
       "        [[8.6395e-02, 6.2560e-03],\n",
       "         [9.0696e-01, 5.6212e-01],\n",
       "         [4.2996e-01, 9.4994e-01]],\n",
       "\n",
       "        [[3.6279e-01, 2.2428e-03],\n",
       "         [9.6146e-01, 5.0325e-02],\n",
       "         [7.0715e-01, 3.7010e-02]],\n",
       "\n",
       "        [[7.2905e-02, 4.3695e-01],\n",
       "         [7.3195e-04, 8.6835e-01],\n",
       "         [1.5468e-01, 8.3062e-01]],\n",
       "\n",
       "        [[7.5589e-01, 1.0718e-01],\n",
       "         [2.0579e-01, 5.0122e-01],\n",
       "         [1.6815e-01, 9.7554e-02]],\n",
       "\n",
       "        [[1.4254e-01, 2.1986e-01],\n",
       "         [4.6769e-01, 4.6113e-01],\n",
       "         [8.9754e-01, 7.6987e-02]],\n",
       "\n",
       "        [[3.8628e-01, 1.3187e-01],\n",
       "         [9.6891e-01, 1.9162e-01],\n",
       "         [9.7560e-01, 7.2246e-01]]])"
      ]
     },
     "execution_count": 265,
     "metadata": {},
     "output_type": "execute_result"
    }
   ],
   "source": [
    "x.permute(0, 2, 1) # to let 1st dimension stay same, 2nd dimension to become 3rd and 3rd to become 2nd"
   ]
  },
  {
   "cell_type": "code",
   "execution_count": null,
   "id": "8eb70b17-8a2f-469c-be55-750eba378dcd",
   "metadata": {},
   "outputs": [],
   "source": []
  },
  {
   "cell_type": "code",
   "execution_count": null,
   "id": "929c0e35-4969-4a3c-b101-59ef51f06c6e",
   "metadata": {},
   "outputs": [],
   "source": []
  }
 ],
 "metadata": {
  "kernelspec": {
   "display_name": "Python 3 (ipykernel)",
   "language": "python",
   "name": "python3"
  },
  "language_info": {
   "codemirror_mode": {
    "name": "ipython",
    "version": 3
   },
   "file_extension": ".py",
   "mimetype": "text/x-python",
   "name": "python",
   "nbconvert_exporter": "python",
   "pygments_lexer": "ipython3",
   "version": "3.11.8"
  }
 },
 "nbformat": 4,
 "nbformat_minor": 5
}
